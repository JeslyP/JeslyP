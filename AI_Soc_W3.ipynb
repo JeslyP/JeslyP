{
  "nbformat": 4,
  "nbformat_minor": 0,
  "metadata": {
    "colab": {
      "provenance": [],
      "collapsed_sections": [
        "REFoNlHseegb",
        "XkIKHTCzfRcm"
      ],
      "include_colab_link": true
    },
    "kernelspec": {
      "name": "python3",
      "display_name": "Python 3"
    },
    "language_info": {
      "name": "python"
    }
  },
  "cells": [
    {
      "cell_type": "markdown",
      "metadata": {
        "id": "view-in-github",
        "colab_type": "text"
      },
      "source": [
        "<a href=\"https://colab.research.google.com/github/JeslyP/JeslyP/blob/main/AI_Soc_W3.ipynb\" target=\"_parent\"><img src=\"https://colab.research.google.com/assets/colab-badge.svg\" alt=\"Open In Colab\"/></a>"
      ]
    },
    {
      "cell_type": "markdown",
      "source": [
        "#AI Society Week 3 - Machine Learning Tutorial #1"
      ],
      "metadata": {
        "id": "NEOFyrOJc7mm"
      }
    },
    {
      "cell_type": "markdown",
      "source": [
        "This week we will introduce some libraries used in machine learning.\n",
        "\n",
        "The boundaries between statistics, data science and machine learning are not particularly firm - really, the things we will be looking at today are data science techniques, and if you're doing Computer Science you will cover a lot of this content in the DATA module.\n",
        "\n",
        "Nonetheless, it is important to cover this stuff before we move onto the more complex aspects of machine learning."
      ],
      "metadata": {
        "id": "3xFIr0YXdDIs"
      }
    },
    {
      "cell_type": "markdown",
      "source": [
        "The same instructions apply as previous sessions: make sure to File -> Save a Copy in order to be able to edit the notebook. Click the run arrow next to each block of code to run it. Make sure to disable AI autocomplete - otherwise what's the point in being here!"
      ],
      "metadata": {
        "id": "pjiR4QfrdnYC"
      }
    },
    {
      "cell_type": "markdown",
      "source": [
        "There is a lot of reading up front this week because any interesting tasks rely on you being able to use these libraries in combination with each other.\n",
        "\n",
        "Please don't worry if it's too much to cover in the session. I would encourage you to have a look at this over the course of a couple of days and tackle the tasks once you feel confident with the purpose and usage of each of the libraries."
      ],
      "metadata": {
        "id": "U4VjLT-dG6bI"
      }
    },
    {
      "cell_type": "markdown",
      "source": [
        "# numpy, pandas and matplotlib"
      ],
      "metadata": {
        "id": "REFoNlHseegb"
      }
    },
    {
      "cell_type": "markdown",
      "source": [
        "We will start by introducing three libraries that we will make a lot of use of today and in future sessions. These are:\n",
        "\n",
        "\n",
        "*   *numpy* - used to extend Python's native mathematical functionality\n",
        "*   *pandas* - used for data analysis\n",
        "*   *matplotlib* - used to plot graphs in Python\n",
        "\n"
      ],
      "metadata": {
        "id": "BnLHKEZneidy"
      }
    },
    {
      "cell_type": "markdown",
      "source": [
        "# numpy"
      ],
      "metadata": {
        "id": "XkIKHTCzfRcm"
      }
    },
    {
      "cell_type": "markdown",
      "source": [
        "Frankly, numpy is an extremely powerful library. It has a LOT of functionality and we will only scratch the surface of what it can do.\n",
        "\n",
        "There is often a numpy method or a one-liner combining a few methods to do any given task. The numpy documentation (https://numpy.org/doc/stable/) and Google will be very helpful whenever you're using numpy."
      ],
      "metadata": {
        "id": "yQ2DMT0BfUiJ"
      }
    },
    {
      "cell_type": "markdown",
      "source": [
        "We will start by importing numpy:"
      ],
      "metadata": {
        "id": "LPCnoTILe9Gu"
      }
    },
    {
      "cell_type": "code",
      "source": [
        "import numpy as np"
      ],
      "metadata": {
        "id": "8qwDusOre_lu"
      },
      "execution_count": null,
      "outputs": []
    },
    {
      "cell_type": "markdown",
      "source": [
        "A key component of numpy is numpy arrays. We have seen Python lists already, and you might see people refer to them as arrays.\n",
        "\n",
        "Crucially, numpy arrays are distinct from 'normal' Python lists. They are created in different ways, have different functionalities, and are treated differently by the Python interpreter.\n",
        "\n",
        "In Python, lists can contain multiple elements of different data types. When we use the word 'array' this is no longer true - all of the elements of an array must be of the same data type. This constraint is enforced in numpy arrays."
      ],
      "metadata": {
        "id": "YnZHrTkqf6Dm"
      }
    },
    {
      "cell_type": "markdown",
      "source": [
        "Let's create some numpy arrays:"
      ],
      "metadata": {
        "id": "nUP6G4mZgsuU"
      }
    },
    {
      "cell_type": "code",
      "source": [
        "#Create a numpy array from an existing Python list\n",
        "\n",
        "myList = [1,2,3,4]\n",
        "myArray = np.array(myList)\n",
        "#or even myArray = np.array([1,2,3,4])\n",
        "\n",
        "print(myArray)\n",
        "\n",
        "#Show the type of the values of the array\n",
        "print(\"Data type of the array:\" , myArray.dtype)"
      ],
      "metadata": {
        "colab": {
          "base_uri": "https://localhost:8080/"
        },
        "id": "Zc1KLV59gui3",
        "outputId": "34fc06ae-7c99-455a-f5c8-717d743ff881"
      },
      "execution_count": null,
      "outputs": [
        {
          "output_type": "stream",
          "name": "stdout",
          "text": [
            "[1 2 3 4]\n",
            "Data type of the array: int64\n"
          ]
        }
      ]
    },
    {
      "cell_type": "markdown",
      "source": [
        "This works if we already have some data we want to use in the array. There are a few convinent functions if we DON'T have pre-existing data:"
      ],
      "metadata": {
        "id": "nbIQKaCWhP0i"
      }
    },
    {
      "cell_type": "code",
      "source": [
        "#create a numpy array of zeroes\n",
        "zero_array = np.zeros(4)\n",
        "\n",
        "#create a numpy array of ones\n",
        "one_array = np.ones(2)\n",
        "\n",
        "print(zero_array)\n",
        "print(one_array)"
      ],
      "metadata": {
        "colab": {
          "base_uri": "https://localhost:8080/"
        },
        "id": "AjVjQamOhWD_",
        "outputId": "4e1d22fc-e351-4a8d-ae8b-22c61a827b1f"
      },
      "execution_count": null,
      "outputs": [
        {
          "output_type": "stream",
          "name": "stdout",
          "text": [
            "[0. 0. 0. 0.]\n",
            "[1. 1.]\n"
          ]
        }
      ]
    },
    {
      "cell_type": "markdown",
      "source": [
        "This created two arrays of zeroes and ones, but they are stored as floats so there is a decimal point after each value. We can specify the data type of the array we are creating if we want to get around this:"
      ],
      "metadata": {
        "id": "WkU0tDyMh5bD"
      }
    },
    {
      "cell_type": "code",
      "source": [
        "one_array = np.ones(2, dtype=int)\n",
        "print(one_array)"
      ],
      "metadata": {
        "colab": {
          "base_uri": "https://localhost:8080/"
        },
        "id": "CdJq65Iah4nb",
        "outputId": "0451b6c9-93e1-464d-ece2-a22107d65ee9"
      },
      "execution_count": null,
      "outputs": [
        {
          "output_type": "stream",
          "name": "stdout",
          "text": [
            "[1 1]\n"
          ]
        }
      ]
    },
    {
      "cell_type": "markdown",
      "source": [
        "A useful way to populate an array is with a sequence of numbers. We can use the arange method to do so."
      ],
      "metadata": {
        "id": "6ieAaRb7xhEQ"
      }
    },
    {
      "cell_type": "code",
      "source": [
        "#Generate an array of the numbers 0 - 5\n",
        "range1 = np.arange(6)\n",
        "print(range1)\n",
        "\n",
        "#We can even specify a start, stop and step like in for loops\n",
        "range2 = np.arange(5,10,2) #odd numbers between 5 and 10\n",
        "print(range2)"
      ],
      "metadata": {
        "colab": {
          "base_uri": "https://localhost:8080/"
        },
        "id": "Rj0RKxLDxgQ2",
        "outputId": "6b2b7e78-0945-4e1f-f4ab-6ba365181df9"
      },
      "execution_count": null,
      "outputs": [
        {
          "output_type": "stream",
          "name": "stdout",
          "text": [
            "[0 1 2 3 4 5]\n",
            "[5 7 9]\n"
          ]
        }
      ]
    },
    {
      "cell_type": "markdown",
      "source": [
        "2D arrays work much how you would expect:"
      ],
      "metadata": {
        "id": "mMfihcjZyGfO"
      }
    },
    {
      "cell_type": "code",
      "source": [
        "array2d_1 = np.array([[1,2,3,4],[5,6,7,8],[9,10,11,12]])\n",
        "print(array2d_1)\n",
        "\n",
        "#or even\n",
        "array2d_2 = np.array([np.arange(3), np.arange(3,6), np.arange(6,9)])\n",
        "print(array2d_2)"
      ],
      "metadata": {
        "colab": {
          "base_uri": "https://localhost:8080/"
        },
        "id": "xoZzopVAyGGu",
        "outputId": "e8850464-62ad-47d0-9f9f-90d8d45f33b1"
      },
      "execution_count": null,
      "outputs": [
        {
          "output_type": "stream",
          "name": "stdout",
          "text": [
            "[[ 1  2  3  4]\n",
            " [ 5  6  7  8]\n",
            " [ 9 10 11 12]]\n",
            "[[0 1 2]\n",
            " [3 4 5]\n",
            " [6 7 8]]\n"
          ]
        }
      ]
    },
    {
      "cell_type": "markdown",
      "source": [
        "HOWEVER: 2D numpy arrays are a bit more strict than Python's 2D lists. Really, a 2D array should be thought of as a matrix: so we couldn't do something like\n",
        "\n",
        "```\n",
        "np.array([np.arange(3), np.arange(10,50,2), np.arange(6,9)])\n",
        "```\n",
        "\n",
        "Because our first and last row would be 3 long, but the middle row would be longer. Our matrix must be of a homogenous size (each row is the same length, and each column in the same length)\n",
        "\n"
      ],
      "metadata": {
        "id": "5Lf9Kg2Vyrsj"
      }
    },
    {
      "cell_type": "markdown",
      "source": [
        "# numpy array operations"
      ],
      "metadata": {
        "id": "B7oKuL_lzajz"
      }
    },
    {
      "cell_type": "markdown",
      "source": [
        "numpy was designed to have fairly similar syntax to native Python, so a lot of the ordinary list operations, like slicing, work the same way:"
      ],
      "metadata": {
        "id": "gTvX1VqHzctL"
      }
    },
    {
      "cell_type": "code",
      "source": [
        "example_array = np.arange(10,50,2)\n",
        "print(example_array)\n",
        "\n",
        "slice1 = example_array[5:]\n",
        "slice2 = example_array[:-3]\n",
        "slice3 = example_array[6:9]\n",
        "\n",
        "print(slice1)\n",
        "print(slice2)\n",
        "print(slice3)"
      ],
      "metadata": {
        "colab": {
          "base_uri": "https://localhost:8080/"
        },
        "id": "0FzUaem5zutq",
        "outputId": "fccb549a-1298-4194-a0c2-f64faf0458c8"
      },
      "execution_count": null,
      "outputs": [
        {
          "output_type": "stream",
          "name": "stdout",
          "text": [
            "[10 12 14 16 18 20 22 24 26 28 30 32 34 36 38 40 42 44 46 48]\n",
            "[20 22 24 26 28 30 32 34 36 38 40 42 44 46 48]\n",
            "[10 12 14 16 18 20 22 24 26 28 30 32 34 36 38 40 42]\n",
            "[22 24 26]\n"
          ]
        }
      ]
    },
    {
      "cell_type": "markdown",
      "source": [
        "One nice functionality is that we can filter our array by a condition:"
      ],
      "metadata": {
        "id": "Ern-8UmQzuR3"
      }
    },
    {
      "cell_type": "code",
      "source": [
        "print(example_array[example_array >= 26])\n",
        "\n",
        "print(example_array[example_array % 2 == 0])\n",
        "\n",
        "print(example_array[(example_array >= 26) & (example_array % 2 == 0)])"
      ],
      "metadata": {
        "colab": {
          "base_uri": "https://localhost:8080/"
        },
        "id": "YU-ORCTQ18oX",
        "outputId": "6ad69427-6bed-40d1-f40e-55501792cdb8"
      },
      "execution_count": null,
      "outputs": [
        {
          "output_type": "stream",
          "name": "stdout",
          "text": [
            "[26 28 30 32 34 36 38 40 42 44 46 48]\n",
            "[10 12 14 16 18 20 22 24 26 28 30 32 34 36 38 40 42 44 46 48]\n",
            "[26 28 30 32 34 36 38 40 42 44 46 48]\n"
          ]
        }
      ]
    },
    {
      "cell_type": "markdown",
      "source": [
        "There are lots more operations like this. We could spend all day on just numpy, so I will leave it there for now.\n",
        "\n",
        "If you come across a problem in the tasks to do with manipulating a numpy array, have a look at the documentation and there's probably a nice way to do it."
      ],
      "metadata": {
        "id": "C2yEz4Jo2c5J"
      }
    },
    {
      "cell_type": "markdown",
      "source": [
        "# pandas"
      ],
      "metadata": {
        "id": "pEBZq9qQ23MX"
      }
    },
    {
      "cell_type": "markdown",
      "source": [
        "pandas is a Python library used to store and manipulate data. We often use it in combination with numpy to load some data, do some processing with it, and hopefully end up with some useful analysis of the data."
      ],
      "metadata": {
        "id": "07zJOA_r25Rg"
      }
    },
    {
      "cell_type": "markdown",
      "source": [
        "We start by importing pandas:"
      ],
      "metadata": {
        "id": "rW3JAXrx3RJ7"
      }
    },
    {
      "cell_type": "code",
      "source": [
        "import pandas as pd"
      ],
      "metadata": {
        "id": "7T-vDSlG3Q6b"
      },
      "execution_count": null,
      "outputs": []
    },
    {
      "cell_type": "markdown",
      "source": [
        "The key data structure in pandas is the DataFrame. You can think of it as being a bit analogous to an Excel spreadsheet or a database.\n",
        "\n",
        "Stealing an example from the pandas documentation, we can have a look at a DataFrame, how it is stored, and what it looks like when we print it out."
      ],
      "metadata": {
        "id": "04xvrRXB3XpF"
      }
    },
    {
      "cell_type": "code",
      "source": [
        "df = pd.DataFrame(\n",
        "    {\n",
        "        \"Name\": [\n",
        "            \"Braund, Mr. Owen Harris\",\n",
        "            \"Allen, Mr. William Henry\",\n",
        "            \"Bonnell, Miss. Elizabeth\",\n",
        "        ],\n",
        "        \"Age\": [22, 35, 58],\n",
        "        \"Sex\": [\"male\", \"male\", \"female\"],\n",
        "    }\n",
        ")\n",
        "\n",
        "print(df)"
      ],
      "metadata": {
        "colab": {
          "base_uri": "https://localhost:8080/"
        },
        "id": "DIM2hFgv3XI2",
        "outputId": "7d61a2f7-b05a-4194-c48f-05f9670d1a27"
      },
      "execution_count": null,
      "outputs": [
        {
          "output_type": "stream",
          "name": "stdout",
          "text": [
            "                       Name  Age     Sex\n",
            "0   Braund, Mr. Owen Harris   22    male\n",
            "1  Allen, Mr. William Henry   35    male\n",
            "2  Bonnell, Miss. Elizabeth   58  female\n"
          ]
        }
      ]
    },
    {
      "cell_type": "markdown",
      "source": [
        "In the real world, your data will often come from an external source like a .csv file or a database. We can load from this external file into a pandas DataFrame with a method like\n",
        "\n",
        "```\n",
        "pd.read_csv(...)\n",
        "```\n",
        "\n",
        "In this notebook, I will be manually creating some DataFrames for us to look at because it's easier than trying to send all of you a large database file. But note that creating a DataFrame from scratch is not normally the way that it's done.\n",
        "\n"
      ],
      "metadata": {
        "id": "2TxJ2B6835cc"
      }
    },
    {
      "cell_type": "markdown",
      "source": [
        "Each column in a DataFrame is called a Series.\n",
        "\n",
        "If we want to focus on a particular column of our data, we can look at an individual series:"
      ],
      "metadata": {
        "id": "G1L0jXX9523D"
      }
    },
    {
      "cell_type": "code",
      "source": [
        "names = df[\"Name\"]\n",
        "print(names)"
      ],
      "metadata": {
        "colab": {
          "base_uri": "https://localhost:8080/"
        },
        "id": "IPOvb7-e6A8b",
        "outputId": "3a94a3c2-6c6f-4df2-eea6-322c257bf01c"
      },
      "execution_count": null,
      "outputs": [
        {
          "output_type": "stream",
          "name": "stdout",
          "text": [
            "0     Braund, Mr. Owen Harris\n",
            "1    Allen, Mr. William Henry\n",
            "2    Bonnell, Miss. Elizabeth\n",
            "Name: Name, dtype: object\n"
          ]
        }
      ]
    },
    {
      "cell_type": "markdown",
      "source": [
        "We can then manipulate this individual series to get some information about our data.\n",
        "\n",
        "Say we want to find the oldest person in the dataset.\n",
        "\n",
        "We would first look at the 'Age' series, find the largest value, then find the corresponding name."
      ],
      "metadata": {
        "id": "fR0lVVys6THx"
      }
    },
    {
      "cell_type": "code",
      "source": [
        "#look at the \"Age\" series\n",
        "ages = df[\"Age\"]\n",
        "\n",
        "#find the oldest age\n",
        "largest_age = ages.max()\n",
        "#or even largest_age = df[\"Age\"].max()\n",
        "\n",
        "#we want the name of the oldest person\n",
        "#so our condition is\n",
        "#df[\"Age\"] == largest_age\n",
        "\n",
        "#in order to search the dataframe for this person, we do df[condition]:\n",
        "record = df[df[\"Age\"] == largest_age]\n",
        "\n",
        "#then get the name\n",
        "print(record[\"Name\"])"
      ],
      "metadata": {
        "colab": {
          "base_uri": "https://localhost:8080/"
        },
        "id": "W20bvQ2g6dzW",
        "outputId": "bc781b09-549a-4c4e-8473-ec3d8097d199"
      },
      "execution_count": null,
      "outputs": [
        {
          "output_type": "stream",
          "name": "stdout",
          "text": [
            "2    Bonnell, Miss. Elizabeth\n",
            "Name: Name, dtype: object\n"
          ]
        }
      ]
    },
    {
      "cell_type": "markdown",
      "source": [
        "We find that the oldest person in the dataset is our old friend Miss Elizabeth Bonnell."
      ],
      "metadata": {
        "id": "VC4pomwW8ZfH"
      }
    },
    {
      "cell_type": "markdown",
      "source": [
        "I personally find the pandas syntax can take a bit of getting used to. Having to do\n",
        "\n",
        "```\n",
        "df[df[\"column name\"] == something]]\n",
        "```\n",
        "takes a second to see what's actually going on.\n",
        "\n",
        "The idea of what we're doing, however, is often the same. We want to take our whole dataset and filter it down to just the thing we're interested in. We do this by looking at an individual series (column) or a set of series. We do some manipulation of them, and then we use that to find our answer.\n"
      ],
      "metadata": {
        "id": "F3VX3CCQ7aUT"
      }
    },
    {
      "cell_type": "markdown",
      "source": [
        "I will again point you to the documentation (https://pandas.pydata.org/docs/) and Google. In the same way as with numpy, these libraries have been designed so that any common task you need to do has a simple and clean solution - you just need to be able to find it!"
      ],
      "metadata": {
        "id": "w7CJqOpt8GhR"
      }
    },
    {
      "cell_type": "markdown",
      "source": [
        "Continuing with our example dataframe, there are a few methods which give you a bit of insight into the data you are working with. These become more obviously useful when you're using a much larger dataset."
      ],
      "metadata": {
        "id": "Q35m2nNP9qRd"
      }
    },
    {
      "cell_type": "markdown",
      "source": [
        "We can have a look at the first few rows of data with 'head'. This also gives us information about the number of rows and columns in the dataframe."
      ],
      "metadata": {
        "id": "_eza57aU91Ns"
      }
    },
    {
      "cell_type": "code",
      "source": [
        "df.head(5) #first 5 rows of data\n",
        "#we only have three in this case\n",
        "#but the default for head (with no argument) is 5"
      ],
      "metadata": {
        "colab": {
          "base_uri": "https://localhost:8080/",
          "height": 143
        },
        "id": "0YV0lX0U93-7",
        "outputId": "fc883e20-40fb-49bf-e826-6d9918228a87"
      },
      "execution_count": null,
      "outputs": [
        {
          "output_type": "execute_result",
          "data": {
            "text/plain": [
              "                       Name  Age     Sex\n",
              "0   Braund, Mr. Owen Harris   22    male\n",
              "1  Allen, Mr. William Henry   35    male\n",
              "2  Bonnell, Miss. Elizabeth   58  female"
            ],
            "text/html": [
              "\n",
              "  <div id=\"df-312d2711-68a0-4e9c-9840-da0912b78f5e\" class=\"colab-df-container\">\n",
              "    <div>\n",
              "<style scoped>\n",
              "    .dataframe tbody tr th:only-of-type {\n",
              "        vertical-align: middle;\n",
              "    }\n",
              "\n",
              "    .dataframe tbody tr th {\n",
              "        vertical-align: top;\n",
              "    }\n",
              "\n",
              "    .dataframe thead th {\n",
              "        text-align: right;\n",
              "    }\n",
              "</style>\n",
              "<table border=\"1\" class=\"dataframe\">\n",
              "  <thead>\n",
              "    <tr style=\"text-align: right;\">\n",
              "      <th></th>\n",
              "      <th>Name</th>\n",
              "      <th>Age</th>\n",
              "      <th>Sex</th>\n",
              "    </tr>\n",
              "  </thead>\n",
              "  <tbody>\n",
              "    <tr>\n",
              "      <th>0</th>\n",
              "      <td>Braund, Mr. Owen Harris</td>\n",
              "      <td>22</td>\n",
              "      <td>male</td>\n",
              "    </tr>\n",
              "    <tr>\n",
              "      <th>1</th>\n",
              "      <td>Allen, Mr. William Henry</td>\n",
              "      <td>35</td>\n",
              "      <td>male</td>\n",
              "    </tr>\n",
              "    <tr>\n",
              "      <th>2</th>\n",
              "      <td>Bonnell, Miss. Elizabeth</td>\n",
              "      <td>58</td>\n",
              "      <td>female</td>\n",
              "    </tr>\n",
              "  </tbody>\n",
              "</table>\n",
              "</div>\n",
              "    <div class=\"colab-df-buttons\">\n",
              "\n",
              "  <div class=\"colab-df-container\">\n",
              "    <button class=\"colab-df-convert\" onclick=\"convertToInteractive('df-312d2711-68a0-4e9c-9840-da0912b78f5e')\"\n",
              "            title=\"Convert this dataframe to an interactive table.\"\n",
              "            style=\"display:none;\">\n",
              "\n",
              "  <svg xmlns=\"http://www.w3.org/2000/svg\" height=\"24px\" viewBox=\"0 -960 960 960\">\n",
              "    <path d=\"M120-120v-720h720v720H120Zm60-500h600v-160H180v160Zm220 220h160v-160H400v160Zm0 220h160v-160H400v160ZM180-400h160v-160H180v160Zm440 0h160v-160H620v160ZM180-180h160v-160H180v160Zm440 0h160v-160H620v160Z\"/>\n",
              "  </svg>\n",
              "    </button>\n",
              "\n",
              "  <style>\n",
              "    .colab-df-container {\n",
              "      display:flex;\n",
              "      gap: 12px;\n",
              "    }\n",
              "\n",
              "    .colab-df-convert {\n",
              "      background-color: #E8F0FE;\n",
              "      border: none;\n",
              "      border-radius: 50%;\n",
              "      cursor: pointer;\n",
              "      display: none;\n",
              "      fill: #1967D2;\n",
              "      height: 32px;\n",
              "      padding: 0 0 0 0;\n",
              "      width: 32px;\n",
              "    }\n",
              "\n",
              "    .colab-df-convert:hover {\n",
              "      background-color: #E2EBFA;\n",
              "      box-shadow: 0px 1px 2px rgba(60, 64, 67, 0.3), 0px 1px 3px 1px rgba(60, 64, 67, 0.15);\n",
              "      fill: #174EA6;\n",
              "    }\n",
              "\n",
              "    .colab-df-buttons div {\n",
              "      margin-bottom: 4px;\n",
              "    }\n",
              "\n",
              "    [theme=dark] .colab-df-convert {\n",
              "      background-color: #3B4455;\n",
              "      fill: #D2E3FC;\n",
              "    }\n",
              "\n",
              "    [theme=dark] .colab-df-convert:hover {\n",
              "      background-color: #434B5C;\n",
              "      box-shadow: 0px 1px 3px 1px rgba(0, 0, 0, 0.15);\n",
              "      filter: drop-shadow(0px 1px 2px rgba(0, 0, 0, 0.3));\n",
              "      fill: #FFFFFF;\n",
              "    }\n",
              "  </style>\n",
              "\n",
              "    <script>\n",
              "      const buttonEl =\n",
              "        document.querySelector('#df-312d2711-68a0-4e9c-9840-da0912b78f5e button.colab-df-convert');\n",
              "      buttonEl.style.display =\n",
              "        google.colab.kernel.accessAllowed ? 'block' : 'none';\n",
              "\n",
              "      async function convertToInteractive(key) {\n",
              "        const element = document.querySelector('#df-312d2711-68a0-4e9c-9840-da0912b78f5e');\n",
              "        const dataTable =\n",
              "          await google.colab.kernel.invokeFunction('convertToInteractive',\n",
              "                                                    [key], {});\n",
              "        if (!dataTable) return;\n",
              "\n",
              "        const docLinkHtml = 'Like what you see? Visit the ' +\n",
              "          '<a target=\"_blank\" href=https://colab.research.google.com/notebooks/data_table.ipynb>data table notebook</a>'\n",
              "          + ' to learn more about interactive tables.';\n",
              "        element.innerHTML = '';\n",
              "        dataTable['output_type'] = 'display_data';\n",
              "        await google.colab.output.renderOutput(dataTable, element);\n",
              "        const docLink = document.createElement('div');\n",
              "        docLink.innerHTML = docLinkHtml;\n",
              "        element.appendChild(docLink);\n",
              "      }\n",
              "    </script>\n",
              "  </div>\n",
              "\n",
              "\n",
              "<div id=\"df-9716848f-612d-4994-96e5-3692d9a478f6\">\n",
              "  <button class=\"colab-df-quickchart\" onclick=\"quickchart('df-9716848f-612d-4994-96e5-3692d9a478f6')\"\n",
              "            title=\"Suggest charts\"\n",
              "            style=\"display:none;\">\n",
              "\n",
              "<svg xmlns=\"http://www.w3.org/2000/svg\" height=\"24px\"viewBox=\"0 0 24 24\"\n",
              "     width=\"24px\">\n",
              "    <g>\n",
              "        <path d=\"M19 3H5c-1.1 0-2 .9-2 2v14c0 1.1.9 2 2 2h14c1.1 0 2-.9 2-2V5c0-1.1-.9-2-2-2zM9 17H7v-7h2v7zm4 0h-2V7h2v10zm4 0h-2v-4h2v4z\"/>\n",
              "    </g>\n",
              "</svg>\n",
              "  </button>\n",
              "\n",
              "<style>\n",
              "  .colab-df-quickchart {\n",
              "      --bg-color: #E8F0FE;\n",
              "      --fill-color: #1967D2;\n",
              "      --hover-bg-color: #E2EBFA;\n",
              "      --hover-fill-color: #174EA6;\n",
              "      --disabled-fill-color: #AAA;\n",
              "      --disabled-bg-color: #DDD;\n",
              "  }\n",
              "\n",
              "  [theme=dark] .colab-df-quickchart {\n",
              "      --bg-color: #3B4455;\n",
              "      --fill-color: #D2E3FC;\n",
              "      --hover-bg-color: #434B5C;\n",
              "      --hover-fill-color: #FFFFFF;\n",
              "      --disabled-bg-color: #3B4455;\n",
              "      --disabled-fill-color: #666;\n",
              "  }\n",
              "\n",
              "  .colab-df-quickchart {\n",
              "    background-color: var(--bg-color);\n",
              "    border: none;\n",
              "    border-radius: 50%;\n",
              "    cursor: pointer;\n",
              "    display: none;\n",
              "    fill: var(--fill-color);\n",
              "    height: 32px;\n",
              "    padding: 0;\n",
              "    width: 32px;\n",
              "  }\n",
              "\n",
              "  .colab-df-quickchart:hover {\n",
              "    background-color: var(--hover-bg-color);\n",
              "    box-shadow: 0 1px 2px rgba(60, 64, 67, 0.3), 0 1px 3px 1px rgba(60, 64, 67, 0.15);\n",
              "    fill: var(--button-hover-fill-color);\n",
              "  }\n",
              "\n",
              "  .colab-df-quickchart-complete:disabled,\n",
              "  .colab-df-quickchart-complete:disabled:hover {\n",
              "    background-color: var(--disabled-bg-color);\n",
              "    fill: var(--disabled-fill-color);\n",
              "    box-shadow: none;\n",
              "  }\n",
              "\n",
              "  .colab-df-spinner {\n",
              "    border: 2px solid var(--fill-color);\n",
              "    border-color: transparent;\n",
              "    border-bottom-color: var(--fill-color);\n",
              "    animation:\n",
              "      spin 1s steps(1) infinite;\n",
              "  }\n",
              "\n",
              "  @keyframes spin {\n",
              "    0% {\n",
              "      border-color: transparent;\n",
              "      border-bottom-color: var(--fill-color);\n",
              "      border-left-color: var(--fill-color);\n",
              "    }\n",
              "    20% {\n",
              "      border-color: transparent;\n",
              "      border-left-color: var(--fill-color);\n",
              "      border-top-color: var(--fill-color);\n",
              "    }\n",
              "    30% {\n",
              "      border-color: transparent;\n",
              "      border-left-color: var(--fill-color);\n",
              "      border-top-color: var(--fill-color);\n",
              "      border-right-color: var(--fill-color);\n",
              "    }\n",
              "    40% {\n",
              "      border-color: transparent;\n",
              "      border-right-color: var(--fill-color);\n",
              "      border-top-color: var(--fill-color);\n",
              "    }\n",
              "    60% {\n",
              "      border-color: transparent;\n",
              "      border-right-color: var(--fill-color);\n",
              "    }\n",
              "    80% {\n",
              "      border-color: transparent;\n",
              "      border-right-color: var(--fill-color);\n",
              "      border-bottom-color: var(--fill-color);\n",
              "    }\n",
              "    90% {\n",
              "      border-color: transparent;\n",
              "      border-bottom-color: var(--fill-color);\n",
              "    }\n",
              "  }\n",
              "</style>\n",
              "\n",
              "  <script>\n",
              "    async function quickchart(key) {\n",
              "      const quickchartButtonEl =\n",
              "        document.querySelector('#' + key + ' button');\n",
              "      quickchartButtonEl.disabled = true;  // To prevent multiple clicks.\n",
              "      quickchartButtonEl.classList.add('colab-df-spinner');\n",
              "      try {\n",
              "        const charts = await google.colab.kernel.invokeFunction(\n",
              "            'suggestCharts', [key], {});\n",
              "      } catch (error) {\n",
              "        console.error('Error during call to suggestCharts:', error);\n",
              "      }\n",
              "      quickchartButtonEl.classList.remove('colab-df-spinner');\n",
              "      quickchartButtonEl.classList.add('colab-df-quickchart-complete');\n",
              "    }\n",
              "    (() => {\n",
              "      let quickchartButtonEl =\n",
              "        document.querySelector('#df-9716848f-612d-4994-96e5-3692d9a478f6 button');\n",
              "      quickchartButtonEl.style.display =\n",
              "        google.colab.kernel.accessAllowed ? 'block' : 'none';\n",
              "    })();\n",
              "  </script>\n",
              "</div>\n",
              "\n",
              "    </div>\n",
              "  </div>\n"
            ],
            "application/vnd.google.colaboratory.intrinsic+json": {
              "type": "dataframe",
              "summary": "{\n  \"name\": \"#but the default for head (with no argument) is 5\",\n  \"rows\": 3,\n  \"fields\": [\n    {\n      \"column\": \"Name\",\n      \"properties\": {\n        \"dtype\": \"string\",\n        \"num_unique_values\": 3,\n        \"samples\": [\n          \"Braund, Mr. Owen Harris\",\n          \"Allen, Mr. William Henry\",\n          \"Bonnell, Miss. Elizabeth\"\n        ],\n        \"semantic_type\": \"\",\n        \"description\": \"\"\n      }\n    },\n    {\n      \"column\": \"Age\",\n      \"properties\": {\n        \"dtype\": \"number\",\n        \"std\": 18,\n        \"min\": 22,\n        \"max\": 58,\n        \"num_unique_values\": 3,\n        \"samples\": [\n          22,\n          35,\n          58\n        ],\n        \"semantic_type\": \"\",\n        \"description\": \"\"\n      }\n    },\n    {\n      \"column\": \"Sex\",\n      \"properties\": {\n        \"dtype\": \"string\",\n        \"num_unique_values\": 2,\n        \"samples\": [\n          \"female\",\n          \"male\"\n        ],\n        \"semantic_type\": \"\",\n        \"description\": \"\"\n      }\n    }\n  ]\n}"
            }
          },
          "metadata": {},
          "execution_count": 16
        }
      ]
    },
    {
      "cell_type": "markdown",
      "source": [
        "We can do the same for a series."
      ],
      "metadata": {
        "id": "_1vNf5-f-i9U"
      }
    },
    {
      "cell_type": "code",
      "source": [
        "df[\"Name\"].head()"
      ],
      "metadata": {
        "colab": {
          "base_uri": "https://localhost:8080/",
          "height": 178
        },
        "id": "ZUwoL37l-klE",
        "outputId": "b8d5344d-3b53-4c38-b71a-486234613b43"
      },
      "execution_count": null,
      "outputs": [
        {
          "output_type": "execute_result",
          "data": {
            "text/plain": [
              "0     Braund, Mr. Owen Harris\n",
              "1    Allen, Mr. William Henry\n",
              "2    Bonnell, Miss. Elizabeth\n",
              "Name: Name, dtype: object"
            ],
            "text/html": [
              "<div>\n",
              "<style scoped>\n",
              "    .dataframe tbody tr th:only-of-type {\n",
              "        vertical-align: middle;\n",
              "    }\n",
              "\n",
              "    .dataframe tbody tr th {\n",
              "        vertical-align: top;\n",
              "    }\n",
              "\n",
              "    .dataframe thead th {\n",
              "        text-align: right;\n",
              "    }\n",
              "</style>\n",
              "<table border=\"1\" class=\"dataframe\">\n",
              "  <thead>\n",
              "    <tr style=\"text-align: right;\">\n",
              "      <th></th>\n",
              "      <th>Name</th>\n",
              "    </tr>\n",
              "  </thead>\n",
              "  <tbody>\n",
              "    <tr>\n",
              "      <th>0</th>\n",
              "      <td>Braund, Mr. Owen Harris</td>\n",
              "    </tr>\n",
              "    <tr>\n",
              "      <th>1</th>\n",
              "      <td>Allen, Mr. William Henry</td>\n",
              "    </tr>\n",
              "    <tr>\n",
              "      <th>2</th>\n",
              "      <td>Bonnell, Miss. Elizabeth</td>\n",
              "    </tr>\n",
              "  </tbody>\n",
              "</table>\n",
              "</div><br><label><b>dtype:</b> object</label>"
            ]
          },
          "metadata": {},
          "execution_count": 17
        }
      ]
    },
    {
      "cell_type": "markdown",
      "source": [
        "If we are interested in more than one column, we can select multiple at once:"
      ],
      "metadata": {
        "id": "FG_LAvDq-vrz"
      }
    },
    {
      "cell_type": "code",
      "source": [
        "df[[\"Age\", \"Sex\"]]"
      ],
      "metadata": {
        "colab": {
          "base_uri": "https://localhost:8080/",
          "height": 143
        },
        "id": "LmRADOHK-01H",
        "outputId": "b435a0bf-d19c-475e-9860-80111cac1fc6"
      },
      "execution_count": null,
      "outputs": [
        {
          "output_type": "execute_result",
          "data": {
            "text/plain": [
              "   Age     Sex\n",
              "0   22    male\n",
              "1   35    male\n",
              "2   58  female"
            ],
            "text/html": [
              "\n",
              "  <div id=\"df-5306a5e0-71bf-4767-bebd-f7939d23f26a\" class=\"colab-df-container\">\n",
              "    <div>\n",
              "<style scoped>\n",
              "    .dataframe tbody tr th:only-of-type {\n",
              "        vertical-align: middle;\n",
              "    }\n",
              "\n",
              "    .dataframe tbody tr th {\n",
              "        vertical-align: top;\n",
              "    }\n",
              "\n",
              "    .dataframe thead th {\n",
              "        text-align: right;\n",
              "    }\n",
              "</style>\n",
              "<table border=\"1\" class=\"dataframe\">\n",
              "  <thead>\n",
              "    <tr style=\"text-align: right;\">\n",
              "      <th></th>\n",
              "      <th>Age</th>\n",
              "      <th>Sex</th>\n",
              "    </tr>\n",
              "  </thead>\n",
              "  <tbody>\n",
              "    <tr>\n",
              "      <th>0</th>\n",
              "      <td>22</td>\n",
              "      <td>male</td>\n",
              "    </tr>\n",
              "    <tr>\n",
              "      <th>1</th>\n",
              "      <td>35</td>\n",
              "      <td>male</td>\n",
              "    </tr>\n",
              "    <tr>\n",
              "      <th>2</th>\n",
              "      <td>58</td>\n",
              "      <td>female</td>\n",
              "    </tr>\n",
              "  </tbody>\n",
              "</table>\n",
              "</div>\n",
              "    <div class=\"colab-df-buttons\">\n",
              "\n",
              "  <div class=\"colab-df-container\">\n",
              "    <button class=\"colab-df-convert\" onclick=\"convertToInteractive('df-5306a5e0-71bf-4767-bebd-f7939d23f26a')\"\n",
              "            title=\"Convert this dataframe to an interactive table.\"\n",
              "            style=\"display:none;\">\n",
              "\n",
              "  <svg xmlns=\"http://www.w3.org/2000/svg\" height=\"24px\" viewBox=\"0 -960 960 960\">\n",
              "    <path d=\"M120-120v-720h720v720H120Zm60-500h600v-160H180v160Zm220 220h160v-160H400v160Zm0 220h160v-160H400v160ZM180-400h160v-160H180v160Zm440 0h160v-160H620v160ZM180-180h160v-160H180v160Zm440 0h160v-160H620v160Z\"/>\n",
              "  </svg>\n",
              "    </button>\n",
              "\n",
              "  <style>\n",
              "    .colab-df-container {\n",
              "      display:flex;\n",
              "      gap: 12px;\n",
              "    }\n",
              "\n",
              "    .colab-df-convert {\n",
              "      background-color: #E8F0FE;\n",
              "      border: none;\n",
              "      border-radius: 50%;\n",
              "      cursor: pointer;\n",
              "      display: none;\n",
              "      fill: #1967D2;\n",
              "      height: 32px;\n",
              "      padding: 0 0 0 0;\n",
              "      width: 32px;\n",
              "    }\n",
              "\n",
              "    .colab-df-convert:hover {\n",
              "      background-color: #E2EBFA;\n",
              "      box-shadow: 0px 1px 2px rgba(60, 64, 67, 0.3), 0px 1px 3px 1px rgba(60, 64, 67, 0.15);\n",
              "      fill: #174EA6;\n",
              "    }\n",
              "\n",
              "    .colab-df-buttons div {\n",
              "      margin-bottom: 4px;\n",
              "    }\n",
              "\n",
              "    [theme=dark] .colab-df-convert {\n",
              "      background-color: #3B4455;\n",
              "      fill: #D2E3FC;\n",
              "    }\n",
              "\n",
              "    [theme=dark] .colab-df-convert:hover {\n",
              "      background-color: #434B5C;\n",
              "      box-shadow: 0px 1px 3px 1px rgba(0, 0, 0, 0.15);\n",
              "      filter: drop-shadow(0px 1px 2px rgba(0, 0, 0, 0.3));\n",
              "      fill: #FFFFFF;\n",
              "    }\n",
              "  </style>\n",
              "\n",
              "    <script>\n",
              "      const buttonEl =\n",
              "        document.querySelector('#df-5306a5e0-71bf-4767-bebd-f7939d23f26a button.colab-df-convert');\n",
              "      buttonEl.style.display =\n",
              "        google.colab.kernel.accessAllowed ? 'block' : 'none';\n",
              "\n",
              "      async function convertToInteractive(key) {\n",
              "        const element = document.querySelector('#df-5306a5e0-71bf-4767-bebd-f7939d23f26a');\n",
              "        const dataTable =\n",
              "          await google.colab.kernel.invokeFunction('convertToInteractive',\n",
              "                                                    [key], {});\n",
              "        if (!dataTable) return;\n",
              "\n",
              "        const docLinkHtml = 'Like what you see? Visit the ' +\n",
              "          '<a target=\"_blank\" href=https://colab.research.google.com/notebooks/data_table.ipynb>data table notebook</a>'\n",
              "          + ' to learn more about interactive tables.';\n",
              "        element.innerHTML = '';\n",
              "        dataTable['output_type'] = 'display_data';\n",
              "        await google.colab.output.renderOutput(dataTable, element);\n",
              "        const docLink = document.createElement('div');\n",
              "        docLink.innerHTML = docLinkHtml;\n",
              "        element.appendChild(docLink);\n",
              "      }\n",
              "    </script>\n",
              "  </div>\n",
              "\n",
              "\n",
              "<div id=\"df-3e52beae-ca73-462d-9101-9bc0704ede70\">\n",
              "  <button class=\"colab-df-quickchart\" onclick=\"quickchart('df-3e52beae-ca73-462d-9101-9bc0704ede70')\"\n",
              "            title=\"Suggest charts\"\n",
              "            style=\"display:none;\">\n",
              "\n",
              "<svg xmlns=\"http://www.w3.org/2000/svg\" height=\"24px\"viewBox=\"0 0 24 24\"\n",
              "     width=\"24px\">\n",
              "    <g>\n",
              "        <path d=\"M19 3H5c-1.1 0-2 .9-2 2v14c0 1.1.9 2 2 2h14c1.1 0 2-.9 2-2V5c0-1.1-.9-2-2-2zM9 17H7v-7h2v7zm4 0h-2V7h2v10zm4 0h-2v-4h2v4z\"/>\n",
              "    </g>\n",
              "</svg>\n",
              "  </button>\n",
              "\n",
              "<style>\n",
              "  .colab-df-quickchart {\n",
              "      --bg-color: #E8F0FE;\n",
              "      --fill-color: #1967D2;\n",
              "      --hover-bg-color: #E2EBFA;\n",
              "      --hover-fill-color: #174EA6;\n",
              "      --disabled-fill-color: #AAA;\n",
              "      --disabled-bg-color: #DDD;\n",
              "  }\n",
              "\n",
              "  [theme=dark] .colab-df-quickchart {\n",
              "      --bg-color: #3B4455;\n",
              "      --fill-color: #D2E3FC;\n",
              "      --hover-bg-color: #434B5C;\n",
              "      --hover-fill-color: #FFFFFF;\n",
              "      --disabled-bg-color: #3B4455;\n",
              "      --disabled-fill-color: #666;\n",
              "  }\n",
              "\n",
              "  .colab-df-quickchart {\n",
              "    background-color: var(--bg-color);\n",
              "    border: none;\n",
              "    border-radius: 50%;\n",
              "    cursor: pointer;\n",
              "    display: none;\n",
              "    fill: var(--fill-color);\n",
              "    height: 32px;\n",
              "    padding: 0;\n",
              "    width: 32px;\n",
              "  }\n",
              "\n",
              "  .colab-df-quickchart:hover {\n",
              "    background-color: var(--hover-bg-color);\n",
              "    box-shadow: 0 1px 2px rgba(60, 64, 67, 0.3), 0 1px 3px 1px rgba(60, 64, 67, 0.15);\n",
              "    fill: var(--button-hover-fill-color);\n",
              "  }\n",
              "\n",
              "  .colab-df-quickchart-complete:disabled,\n",
              "  .colab-df-quickchart-complete:disabled:hover {\n",
              "    background-color: var(--disabled-bg-color);\n",
              "    fill: var(--disabled-fill-color);\n",
              "    box-shadow: none;\n",
              "  }\n",
              "\n",
              "  .colab-df-spinner {\n",
              "    border: 2px solid var(--fill-color);\n",
              "    border-color: transparent;\n",
              "    border-bottom-color: var(--fill-color);\n",
              "    animation:\n",
              "      spin 1s steps(1) infinite;\n",
              "  }\n",
              "\n",
              "  @keyframes spin {\n",
              "    0% {\n",
              "      border-color: transparent;\n",
              "      border-bottom-color: var(--fill-color);\n",
              "      border-left-color: var(--fill-color);\n",
              "    }\n",
              "    20% {\n",
              "      border-color: transparent;\n",
              "      border-left-color: var(--fill-color);\n",
              "      border-top-color: var(--fill-color);\n",
              "    }\n",
              "    30% {\n",
              "      border-color: transparent;\n",
              "      border-left-color: var(--fill-color);\n",
              "      border-top-color: var(--fill-color);\n",
              "      border-right-color: var(--fill-color);\n",
              "    }\n",
              "    40% {\n",
              "      border-color: transparent;\n",
              "      border-right-color: var(--fill-color);\n",
              "      border-top-color: var(--fill-color);\n",
              "    }\n",
              "    60% {\n",
              "      border-color: transparent;\n",
              "      border-right-color: var(--fill-color);\n",
              "    }\n",
              "    80% {\n",
              "      border-color: transparent;\n",
              "      border-right-color: var(--fill-color);\n",
              "      border-bottom-color: var(--fill-color);\n",
              "    }\n",
              "    90% {\n",
              "      border-color: transparent;\n",
              "      border-bottom-color: var(--fill-color);\n",
              "    }\n",
              "  }\n",
              "</style>\n",
              "\n",
              "  <script>\n",
              "    async function quickchart(key) {\n",
              "      const quickchartButtonEl =\n",
              "        document.querySelector('#' + key + ' button');\n",
              "      quickchartButtonEl.disabled = true;  // To prevent multiple clicks.\n",
              "      quickchartButtonEl.classList.add('colab-df-spinner');\n",
              "      try {\n",
              "        const charts = await google.colab.kernel.invokeFunction(\n",
              "            'suggestCharts', [key], {});\n",
              "      } catch (error) {\n",
              "        console.error('Error during call to suggestCharts:', error);\n",
              "      }\n",
              "      quickchartButtonEl.classList.remove('colab-df-spinner');\n",
              "      quickchartButtonEl.classList.add('colab-df-quickchart-complete');\n",
              "    }\n",
              "    (() => {\n",
              "      let quickchartButtonEl =\n",
              "        document.querySelector('#df-3e52beae-ca73-462d-9101-9bc0704ede70 button');\n",
              "      quickchartButtonEl.style.display =\n",
              "        google.colab.kernel.accessAllowed ? 'block' : 'none';\n",
              "    })();\n",
              "  </script>\n",
              "</div>\n",
              "\n",
              "    </div>\n",
              "  </div>\n"
            ],
            "application/vnd.google.colaboratory.intrinsic+json": {
              "type": "dataframe",
              "summary": "{\n  \"name\": \"df[[\\\"Age\\\", \\\"Sex\\\"]]\",\n  \"rows\": 3,\n  \"fields\": [\n    {\n      \"column\": \"Age\",\n      \"properties\": {\n        \"dtype\": \"number\",\n        \"std\": 18,\n        \"min\": 22,\n        \"max\": 58,\n        \"num_unique_values\": 3,\n        \"samples\": [\n          22,\n          35,\n          58\n        ],\n        \"semantic_type\": \"\",\n        \"description\": \"\"\n      }\n    },\n    {\n      \"column\": \"Sex\",\n      \"properties\": {\n        \"dtype\": \"string\",\n        \"num_unique_values\": 2,\n        \"samples\": [\n          \"female\",\n          \"male\"\n        ],\n        \"semantic_type\": \"\",\n        \"description\": \"\"\n      }\n    }\n  ]\n}"
            }
          },
          "metadata": {},
          "execution_count": 18
        }
      ]
    },
    {
      "cell_type": "markdown",
      "source": [
        "And then manipulate this like normal:"
      ],
      "metadata": {
        "id": "H3Ykwkv4-9_9"
      }
    },
    {
      "cell_type": "code",
      "source": [
        "print(df[[\"Age\", \"Sex\"]].head(5))\n",
        "\n",
        "print(df[[\"Age\", \"Sex\"]].shape)"
      ],
      "metadata": {
        "colab": {
          "base_uri": "https://localhost:8080/"
        },
        "id": "N76icniw_BjG",
        "outputId": "31f7c099-9dc5-4437-cf00-4b45a18b65b1"
      },
      "execution_count": null,
      "outputs": [
        {
          "output_type": "stream",
          "name": "stdout",
          "text": [
            "   Age     Sex\n",
            "0   22    male\n",
            "1   35    male\n",
            "2   58  female\n",
            "(3, 2)\n"
          ]
        }
      ]
    },
    {
      "cell_type": "markdown",
      "source": [
        "Our numpy conditional filtering works with dataframes too. Let's only look at people who are older than 30."
      ],
      "metadata": {
        "id": "ZrpxTUOX_ZBa"
      }
    },
    {
      "cell_type": "markdown",
      "source": [
        "The loc and iloc methods are used to filter the dataframe and only look at certain columns, based on a condition."
      ],
      "metadata": {
        "id": "cSAlNdHuACCu"
      }
    },
    {
      "cell_type": "code",
      "source": [
        "df.loc[df[\"Age\"] > 30, [\"Age\", \"Sex\"]]"
      ],
      "metadata": {
        "colab": {
          "base_uri": "https://localhost:8080/",
          "height": 112
        },
        "id": "t9pSneOO_fvY",
        "outputId": "96880129-1b73-4738-c7fe-e7ecf466113c"
      },
      "execution_count": null,
      "outputs": [
        {
          "output_type": "execute_result",
          "data": {
            "text/plain": [
              "   Age     Sex\n",
              "1   35    male\n",
              "2   58  female"
            ],
            "text/html": [
              "\n",
              "  <div id=\"df-8893e4eb-69b6-445a-8ff4-378c89c35745\" class=\"colab-df-container\">\n",
              "    <div>\n",
              "<style scoped>\n",
              "    .dataframe tbody tr th:only-of-type {\n",
              "        vertical-align: middle;\n",
              "    }\n",
              "\n",
              "    .dataframe tbody tr th {\n",
              "        vertical-align: top;\n",
              "    }\n",
              "\n",
              "    .dataframe thead th {\n",
              "        text-align: right;\n",
              "    }\n",
              "</style>\n",
              "<table border=\"1\" class=\"dataframe\">\n",
              "  <thead>\n",
              "    <tr style=\"text-align: right;\">\n",
              "      <th></th>\n",
              "      <th>Age</th>\n",
              "      <th>Sex</th>\n",
              "    </tr>\n",
              "  </thead>\n",
              "  <tbody>\n",
              "    <tr>\n",
              "      <th>1</th>\n",
              "      <td>35</td>\n",
              "      <td>male</td>\n",
              "    </tr>\n",
              "    <tr>\n",
              "      <th>2</th>\n",
              "      <td>58</td>\n",
              "      <td>female</td>\n",
              "    </tr>\n",
              "  </tbody>\n",
              "</table>\n",
              "</div>\n",
              "    <div class=\"colab-df-buttons\">\n",
              "\n",
              "  <div class=\"colab-df-container\">\n",
              "    <button class=\"colab-df-convert\" onclick=\"convertToInteractive('df-8893e4eb-69b6-445a-8ff4-378c89c35745')\"\n",
              "            title=\"Convert this dataframe to an interactive table.\"\n",
              "            style=\"display:none;\">\n",
              "\n",
              "  <svg xmlns=\"http://www.w3.org/2000/svg\" height=\"24px\" viewBox=\"0 -960 960 960\">\n",
              "    <path d=\"M120-120v-720h720v720H120Zm60-500h600v-160H180v160Zm220 220h160v-160H400v160Zm0 220h160v-160H400v160ZM180-400h160v-160H180v160Zm440 0h160v-160H620v160ZM180-180h160v-160H180v160Zm440 0h160v-160H620v160Z\"/>\n",
              "  </svg>\n",
              "    </button>\n",
              "\n",
              "  <style>\n",
              "    .colab-df-container {\n",
              "      display:flex;\n",
              "      gap: 12px;\n",
              "    }\n",
              "\n",
              "    .colab-df-convert {\n",
              "      background-color: #E8F0FE;\n",
              "      border: none;\n",
              "      border-radius: 50%;\n",
              "      cursor: pointer;\n",
              "      display: none;\n",
              "      fill: #1967D2;\n",
              "      height: 32px;\n",
              "      padding: 0 0 0 0;\n",
              "      width: 32px;\n",
              "    }\n",
              "\n",
              "    .colab-df-convert:hover {\n",
              "      background-color: #E2EBFA;\n",
              "      box-shadow: 0px 1px 2px rgba(60, 64, 67, 0.3), 0px 1px 3px 1px rgba(60, 64, 67, 0.15);\n",
              "      fill: #174EA6;\n",
              "    }\n",
              "\n",
              "    .colab-df-buttons div {\n",
              "      margin-bottom: 4px;\n",
              "    }\n",
              "\n",
              "    [theme=dark] .colab-df-convert {\n",
              "      background-color: #3B4455;\n",
              "      fill: #D2E3FC;\n",
              "    }\n",
              "\n",
              "    [theme=dark] .colab-df-convert:hover {\n",
              "      background-color: #434B5C;\n",
              "      box-shadow: 0px 1px 3px 1px rgba(0, 0, 0, 0.15);\n",
              "      filter: drop-shadow(0px 1px 2px rgba(0, 0, 0, 0.3));\n",
              "      fill: #FFFFFF;\n",
              "    }\n",
              "  </style>\n",
              "\n",
              "    <script>\n",
              "      const buttonEl =\n",
              "        document.querySelector('#df-8893e4eb-69b6-445a-8ff4-378c89c35745 button.colab-df-convert');\n",
              "      buttonEl.style.display =\n",
              "        google.colab.kernel.accessAllowed ? 'block' : 'none';\n",
              "\n",
              "      async function convertToInteractive(key) {\n",
              "        const element = document.querySelector('#df-8893e4eb-69b6-445a-8ff4-378c89c35745');\n",
              "        const dataTable =\n",
              "          await google.colab.kernel.invokeFunction('convertToInteractive',\n",
              "                                                    [key], {});\n",
              "        if (!dataTable) return;\n",
              "\n",
              "        const docLinkHtml = 'Like what you see? Visit the ' +\n",
              "          '<a target=\"_blank\" href=https://colab.research.google.com/notebooks/data_table.ipynb>data table notebook</a>'\n",
              "          + ' to learn more about interactive tables.';\n",
              "        element.innerHTML = '';\n",
              "        dataTable['output_type'] = 'display_data';\n",
              "        await google.colab.output.renderOutput(dataTable, element);\n",
              "        const docLink = document.createElement('div');\n",
              "        docLink.innerHTML = docLinkHtml;\n",
              "        element.appendChild(docLink);\n",
              "      }\n",
              "    </script>\n",
              "  </div>\n",
              "\n",
              "\n",
              "<div id=\"df-d6087f0d-d458-4dad-88f8-68f5acda3f55\">\n",
              "  <button class=\"colab-df-quickchart\" onclick=\"quickchart('df-d6087f0d-d458-4dad-88f8-68f5acda3f55')\"\n",
              "            title=\"Suggest charts\"\n",
              "            style=\"display:none;\">\n",
              "\n",
              "<svg xmlns=\"http://www.w3.org/2000/svg\" height=\"24px\"viewBox=\"0 0 24 24\"\n",
              "     width=\"24px\">\n",
              "    <g>\n",
              "        <path d=\"M19 3H5c-1.1 0-2 .9-2 2v14c0 1.1.9 2 2 2h14c1.1 0 2-.9 2-2V5c0-1.1-.9-2-2-2zM9 17H7v-7h2v7zm4 0h-2V7h2v10zm4 0h-2v-4h2v4z\"/>\n",
              "    </g>\n",
              "</svg>\n",
              "  </button>\n",
              "\n",
              "<style>\n",
              "  .colab-df-quickchart {\n",
              "      --bg-color: #E8F0FE;\n",
              "      --fill-color: #1967D2;\n",
              "      --hover-bg-color: #E2EBFA;\n",
              "      --hover-fill-color: #174EA6;\n",
              "      --disabled-fill-color: #AAA;\n",
              "      --disabled-bg-color: #DDD;\n",
              "  }\n",
              "\n",
              "  [theme=dark] .colab-df-quickchart {\n",
              "      --bg-color: #3B4455;\n",
              "      --fill-color: #D2E3FC;\n",
              "      --hover-bg-color: #434B5C;\n",
              "      --hover-fill-color: #FFFFFF;\n",
              "      --disabled-bg-color: #3B4455;\n",
              "      --disabled-fill-color: #666;\n",
              "  }\n",
              "\n",
              "  .colab-df-quickchart {\n",
              "    background-color: var(--bg-color);\n",
              "    border: none;\n",
              "    border-radius: 50%;\n",
              "    cursor: pointer;\n",
              "    display: none;\n",
              "    fill: var(--fill-color);\n",
              "    height: 32px;\n",
              "    padding: 0;\n",
              "    width: 32px;\n",
              "  }\n",
              "\n",
              "  .colab-df-quickchart:hover {\n",
              "    background-color: var(--hover-bg-color);\n",
              "    box-shadow: 0 1px 2px rgba(60, 64, 67, 0.3), 0 1px 3px 1px rgba(60, 64, 67, 0.15);\n",
              "    fill: var(--button-hover-fill-color);\n",
              "  }\n",
              "\n",
              "  .colab-df-quickchart-complete:disabled,\n",
              "  .colab-df-quickchart-complete:disabled:hover {\n",
              "    background-color: var(--disabled-bg-color);\n",
              "    fill: var(--disabled-fill-color);\n",
              "    box-shadow: none;\n",
              "  }\n",
              "\n",
              "  .colab-df-spinner {\n",
              "    border: 2px solid var(--fill-color);\n",
              "    border-color: transparent;\n",
              "    border-bottom-color: var(--fill-color);\n",
              "    animation:\n",
              "      spin 1s steps(1) infinite;\n",
              "  }\n",
              "\n",
              "  @keyframes spin {\n",
              "    0% {\n",
              "      border-color: transparent;\n",
              "      border-bottom-color: var(--fill-color);\n",
              "      border-left-color: var(--fill-color);\n",
              "    }\n",
              "    20% {\n",
              "      border-color: transparent;\n",
              "      border-left-color: var(--fill-color);\n",
              "      border-top-color: var(--fill-color);\n",
              "    }\n",
              "    30% {\n",
              "      border-color: transparent;\n",
              "      border-left-color: var(--fill-color);\n",
              "      border-top-color: var(--fill-color);\n",
              "      border-right-color: var(--fill-color);\n",
              "    }\n",
              "    40% {\n",
              "      border-color: transparent;\n",
              "      border-right-color: var(--fill-color);\n",
              "      border-top-color: var(--fill-color);\n",
              "    }\n",
              "    60% {\n",
              "      border-color: transparent;\n",
              "      border-right-color: var(--fill-color);\n",
              "    }\n",
              "    80% {\n",
              "      border-color: transparent;\n",
              "      border-right-color: var(--fill-color);\n",
              "      border-bottom-color: var(--fill-color);\n",
              "    }\n",
              "    90% {\n",
              "      border-color: transparent;\n",
              "      border-bottom-color: var(--fill-color);\n",
              "    }\n",
              "  }\n",
              "</style>\n",
              "\n",
              "  <script>\n",
              "    async function quickchart(key) {\n",
              "      const quickchartButtonEl =\n",
              "        document.querySelector('#' + key + ' button');\n",
              "      quickchartButtonEl.disabled = true;  // To prevent multiple clicks.\n",
              "      quickchartButtonEl.classList.add('colab-df-spinner');\n",
              "      try {\n",
              "        const charts = await google.colab.kernel.invokeFunction(\n",
              "            'suggestCharts', [key], {});\n",
              "      } catch (error) {\n",
              "        console.error('Error during call to suggestCharts:', error);\n",
              "      }\n",
              "      quickchartButtonEl.classList.remove('colab-df-spinner');\n",
              "      quickchartButtonEl.classList.add('colab-df-quickchart-complete');\n",
              "    }\n",
              "    (() => {\n",
              "      let quickchartButtonEl =\n",
              "        document.querySelector('#df-d6087f0d-d458-4dad-88f8-68f5acda3f55 button');\n",
              "      quickchartButtonEl.style.display =\n",
              "        google.colab.kernel.accessAllowed ? 'block' : 'none';\n",
              "    })();\n",
              "  </script>\n",
              "</div>\n",
              "\n",
              "    </div>\n",
              "  </div>\n"
            ],
            "application/vnd.google.colaboratory.intrinsic+json": {
              "type": "dataframe",
              "summary": "{\n  \"name\": \"df\",\n  \"rows\": 2,\n  \"fields\": [\n    {\n      \"column\": \"Age\",\n      \"properties\": {\n        \"dtype\": \"number\",\n        \"std\": 16,\n        \"min\": 35,\n        \"max\": 58,\n        \"num_unique_values\": 2,\n        \"samples\": [\n          58,\n          35\n        ],\n        \"semantic_type\": \"\",\n        \"description\": \"\"\n      }\n    },\n    {\n      \"column\": \"Sex\",\n      \"properties\": {\n        \"dtype\": \"string\",\n        \"num_unique_values\": 2,\n        \"samples\": [\n          \"female\",\n          \"male\"\n        ],\n        \"semantic_type\": \"\",\n        \"description\": \"\"\n      }\n    }\n  ]\n}"
            }
          },
          "metadata": {},
          "execution_count": 20
        }
      ]
    },
    {
      "cell_type": "markdown",
      "source": [
        "# matplotlib"
      ],
      "metadata": {
        "id": "n13pPzi7AQdK"
      }
    },
    {
      "cell_type": "markdown",
      "source": [
        "This will be a short section before we get to the exercises. matplotlib is a library used for plotting graphs in Python. This is really helpful for visualising data and spotting trends.\n",
        "\n",
        "There are other libraries which provide the same functionality. matplotlib is a common one, but not the only choice, and depending on the task you might use something else.\n",
        "\n",
        "All I want to do with matplotlib today is to show you how to draw a simple plot of data from a pandas dataframe."
      ],
      "metadata": {
        "id": "NL-Ff_kOAXsv"
      }
    },
    {
      "cell_type": "markdown",
      "source": [
        "We import the pyplot functions from matplotlib:"
      ],
      "metadata": {
        "id": "K_bUyfFMBdvW"
      }
    },
    {
      "cell_type": "code",
      "source": [
        "import matplotlib.pyplot as plt"
      ],
      "metadata": {
        "id": "OL5u0JYEBg2e"
      },
      "execution_count": null,
      "outputs": []
    },
    {
      "cell_type": "markdown",
      "source": [
        "Generally, graph plotting libraries have a million different plotting methods and parameters. Everything is customisable, from axis labels and titles, colours, scale, everything. This is just one way to get a functional plot from some data."
      ],
      "metadata": {
        "id": "g6RytjlmA7bp"
      }
    },
    {
      "cell_type": "markdown",
      "source": [
        "There is a .plot() method in the DataFrame class. This creates a plot from the data in the dataframe. Then, there is the plt.show() method, which displays the plot.\n",
        "\n",
        "Amazing! Let's call those:"
      ],
      "metadata": {
        "id": "pHJQCJVgBsmU"
      }
    },
    {
      "cell_type": "code",
      "source": [
        "df.plot()\n",
        "plt.show()"
      ],
      "metadata": {
        "colab": {
          "base_uri": "https://localhost:8080/"
        },
        "id": "lZeTZ-LLBnOe",
        "outputId": "35293688-3ae2-4f9c-8d59-9fae316eb21a"
      },
      "execution_count": null,
      "outputs": [
        {
          "output_type": "display_data",
          "data": {
            "text/plain": [
              "<Figure size 640x480 with 1 Axes>"
            ],
            "image/png": "[encoded data removed]"
          },
          "metadata": {}
        }
      ]
    },
    {
      "cell_type": "markdown",
      "source": [
        "What is this? What is this a graph of? I have no idea.\n",
        "\n",
        "Our data doesn't even really make much sense. How do we graph Name and Sex? I will introduce a new pandas dataframe now which we will use for the examples."
      ],
      "metadata": {
        "id": "MxALnvebB4UZ"
      }
    },
    {
      "cell_type": "code",
      "source": [
        "data = {\n",
        "    'Name': [\n",
        "        'Allison Hill', 'Noah Rhodes', 'Angie Henderson', 'Daniel Wagner',\n",
        "        'Cristian Santos', 'Connie Lawrence', 'Abigail Shaffer', 'Gina Moore',\n",
        "        'Gabrielle Davis', 'Ryan Munoz', 'Monica Herrera', 'Jamie Arnold',\n",
        "        'Lisa Hensley', 'Michele Williams', 'Dylan Miller', 'Brian Ramirez',\n",
        "        'Holly Wood', 'Derek Zuniga', 'Lisa Jackson', 'Carla Gray',\n",
        "        'Margaret Hawkins DDS', 'Patty Perez', 'Ethan Adams', 'Tommy Walter',\n",
        "        'Matthew Foster', 'Judy Baker', 'Justin Baker', 'Stephanie Ross',\n",
        "        'Zachary Hicks', 'Anthony Rodriguez', 'Rebecca Henderson',\n",
        "        'James Ferrell', 'Tricia Valencia', 'Nathan Maldonado',\n",
        "        'Debra Davidson', 'Jeffrey Chavez', 'Sherri Baker', 'Cassandra Gaines',\n",
        "        'Elizabeth Fowler', 'Brittany Farmer', 'Paula Moreno', 'Fred Smith',\n",
        "        'Sherry Decker', 'Anthony Humphrey', 'Angelica Tucker', 'Philip Cannon',\n",
        "        'John Pierce', 'Shane Henderson', 'Joshua Blair', 'Eric Carney'\n",
        "    ],\n",
        "    'Age': [\n",
        "        56, 28, 54, 61, 47, 63, 39, 53, 60, 37, 56, 31, 46, 52, 26, 30, 52, 52,\n",
        "        44, 54, 35, 52, 49, 63, 57, 25, 51, 37, 27, 63, 30, 32, 51, 33, 61, 57,\n",
        "        48, 39, 56, 56, 48, 36, 63, 26, 27, 61, 41, 26, 26, 52\n",
        "    ],\n",
        "    'Sex': [\n",
        "        'Female', 'Male', 'Male', 'Female', 'Male', 'Male', 'Male', 'Female',\n",
        "        'Female', 'Male', 'Female', 'Female', 'Female', 'Female', 'Female',\n",
        "        'Male', 'Female', 'Male', 'Male', 'Female', 'Male', 'Male', 'Male',\n",
        "        'Female', 'Female', 'Male', 'Female', 'Female', 'Female', 'Female',\n",
        "        'Male', 'Male', 'Female', 'Female', 'Male', 'Male', 'Female', 'Male',\n",
        "        'Female', 'Female', 'Male', 'Female', 'Female', 'Male', 'Female', 'Male',\n",
        "        'Female', 'Male', 'Male', 'Male'\n",
        "    ],\n",
        "    'Yearly Income': [\n",
        "        146642, 51411, 42911, 107270, 123763, 48680, 124896, 123879, 111295,\n",
        "        128614, 140689, 51111, 77504, 41802, 48155, 113656, 79384, 87254, 61918,\n",
        "        125981, 100713, 70306, 56646, 86843, 136601, 130735, 147512, 56371,\n",
        "        117371, 42049, 71616, 143727, 60932, 69855, 101434, 112694, 83016,\n",
        "        47400, 82642, 55151, 91407, 106690, 44499, 46295, 99040, 52183, 69299,\n",
        "        52874, 72711, 45539\n",
        "    ],\n",
        "    'House Price': [\n",
        "        791654.78, 277545.07, 231657.36, 579102.91, 668141.26, 262801.62,\n",
        "        674257.82, 668767.49, 600832.09, 694329.65, 759517.19, 275925.50,\n",
        "        418409.54, 225670.36, 259967.38, 613578.07, 428558.83, 471045.45,\n",
        "        334267.68, 680115.26, 543704.59, 379550.75, 305806.50, 468826.64,\n",
        "        737447.90, 705779.98, 796351.53, 304321.90, 633633.70, 227003.81,\n",
        "        386622.86, 775918.00, 328944.70, 377116.00, 547596.95, 608384.67,\n",
        "        448166.37, 255891.47, 446147.32, 297735.66, 493465.64, 575971.75,\n",
        "        240230.26, 249926.07, 534672.81, 281712.75, 374114.41, 285443.15,\n",
        "        392534.27, 245844.76\n",
        "    ]\n",
        "}\n",
        "\n",
        "df = pd.DataFrame(data)\n",
        "print(df)"
      ],
      "metadata": {
        "colab": {
          "base_uri": "https://localhost:8080/"
        },
        "id": "SD7X9RNRCV9P",
        "outputId": "fb265c75-6eea-40ac-d646-feb5b2450002"
      },
      "execution_count": null,
      "outputs": [
        {
          "output_type": "stream",
          "name": "stdout",
          "text": [
            "                    Name  Age     Sex  Yearly Income  House Price\n",
            "0           Allison Hill   56  Female         146642    791654.78\n",
            "1            Noah Rhodes   28    Male          51411    277545.07\n",
            "2        Angie Henderson   54    Male          42911    231657.36\n",
            "3          Daniel Wagner   61  Female         107270    579102.91\n",
            "4        Cristian Santos   47    Male         123763    668141.26\n",
            "5        Connie Lawrence   63    Male          48680    262801.62\n",
            "6        Abigail Shaffer   39    Male         124896    674257.82\n",
            "7             Gina Moore   53  Female         123879    668767.49\n",
            "8        Gabrielle Davis   60  Female         111295    600832.09\n",
            "9             Ryan Munoz   37    Male         128614    694329.65\n",
            "10        Monica Herrera   56  Female         140689    759517.19\n",
            "11          Jamie Arnold   31  Female          51111    275925.50\n",
            "12          Lisa Hensley   46  Female          77504    418409.54\n",
            "13      Michele Williams   52  Female          41802    225670.36\n",
            "14          Dylan Miller   26  Female          48155    259967.38\n",
            "15         Brian Ramirez   30    Male         113656    613578.07\n",
            "16            Holly Wood   52  Female          79384    428558.83\n",
            "17          Derek Zuniga   52    Male          87254    471045.45\n",
            "18          Lisa Jackson   44    Male          61918    334267.68\n",
            "19            Carla Gray   54  Female         125981    680115.26\n",
            "20  Margaret Hawkins DDS   35    Male         100713    543704.59\n",
            "21           Patty Perez   52    Male          70306    379550.75\n",
            "22           Ethan Adams   49    Male          56646    305806.50\n",
            "23          Tommy Walter   63  Female          86843    468826.64\n",
            "24        Matthew Foster   57  Female         136601    737447.90\n",
            "25            Judy Baker   25    Male         130735    705779.98\n",
            "26          Justin Baker   51  Female         147512    796351.53\n",
            "27        Stephanie Ross   37  Female          56371    304321.90\n",
            "28         Zachary Hicks   27  Female         117371    633633.70\n",
            "29     Anthony Rodriguez   63  Female          42049    227003.81\n",
            "30     Rebecca Henderson   30    Male          71616    386622.86\n",
            "31         James Ferrell   32    Male         143727    775918.00\n",
            "32       Tricia Valencia   51  Female          60932    328944.70\n",
            "33      Nathan Maldonado   33  Female          69855    377116.00\n",
            "34        Debra Davidson   61    Male         101434    547596.95\n",
            "35        Jeffrey Chavez   57    Male         112694    608384.67\n",
            "36          Sherri Baker   48  Female          83016    448166.37\n",
            "37      Cassandra Gaines   39    Male          47400    255891.47\n",
            "38      Elizabeth Fowler   56  Female          82642    446147.32\n",
            "39       Brittany Farmer   56  Female          55151    297735.66\n",
            "40          Paula Moreno   48    Male          91407    493465.64\n",
            "41            Fred Smith   36  Female         106690    575971.75\n",
            "42         Sherry Decker   63  Female          44499    240230.26\n",
            "43      Anthony Humphrey   26    Male          46295    249926.07\n",
            "44       Angelica Tucker   27  Female          99040    534672.81\n",
            "45         Philip Cannon   61    Male          52183    281712.75\n",
            "46           John Pierce   41  Female          69299    374114.41\n",
            "47       Shane Henderson   26    Male          52874    285443.15\n",
            "48          Joshua Blair   26    Male          72711    392534.27\n",
            "49           Eric Carney   52    Male          45539    245844.76\n"
          ]
        }
      ]
    },
    {
      "cell_type": "markdown",
      "source": [
        "Using this new dataframe, let's plot a graph of Yearly Income against House Price."
      ],
      "metadata": {
        "id": "wf99UFHlD-5I"
      }
    },
    {
      "cell_type": "markdown",
      "source": [
        "There are multiple different plotting functions. It makes sense for this to be a scatter plot, as we are plotting many different individual points.\n",
        "\n",
        "The scatter method takes a lot of optional arguments. We will specify x and y, the x and y axes, with the labels of the dataframe series we want to use."
      ],
      "metadata": {
        "id": "ePYtfgTYEQ-_"
      }
    },
    {
      "cell_type": "code",
      "source": [
        "df.plot.scatter(x = \"Yearly Income\", y = \"House Price\")\n",
        "plt.show()"
      ],
      "metadata": {
        "id": "WDGi8YVJEFfb"
      },
      "execution_count": null,
      "outputs": []
    },
    {
      "cell_type": "markdown",
      "source": [
        "That works! It's not a particularly interesting graph but it does show the trend of the data: as yearly income increases, house price also increases.\n",
        "\n",
        "In real data we would expect to see more noise, and would have to consider the effect of outliers.\n",
        "\n",
        "It would be nice if we could know someone's yearly income, and use that to estimate their house price. We would have to draw a line of best fit for the graph, and use that to find our answer. We can do that with a machine learning technique called linear regression - which we will introduce next week."
      ],
      "metadata": {
        "id": "awEcKAwSEmBm"
      }
    },
    {
      "cell_type": "markdown",
      "source": [
        "# Tasks"
      ],
      "metadata": {
        "id": "qD-xL2zdFANk"
      }
    },
    {
      "cell_type": "markdown",
      "source": [
        "The sheet this week has been structured as a lot of reading upfront. This is because to do any interesting tasks, you sort of need to know how to use all three of these libraries together.\n",
        "\n",
        "Now that you understand numpy, pandas, and matplotlib (and hopefully know where to go when you DON'T know something) we can start looking at a dataset and getting some information from it.\n",
        "\n",
        "Some of the steps you would want to take in these tasks might not have been covered by this sheet. Part of being a good programmer is knowing what questions to ask and how to answer them, to find out details like 'how do I find the average of a series in a dataframe?'. If there is something you don't know how to do, try to check online - or ask us by raising your hand or putting a question in the Discord server."
      ],
      "metadata": {
        "id": "ISS5_6w9FCqr"
      }
    },
    {
      "cell_type": "markdown",
      "source": [
        "**Warm up Task 1: Create a 2D numpy array with 5 columns and 10 rows. Populate it with whatever data you like - but not by hand!**"
      ],
      "metadata": {
        "id": "IYXBNdXlLVUC"
      }
    },
    {
      "cell_type": "code",
      "source": [
        "#Start writing on the next line\n",
        "\n",
        "array = [[0]*10]*5\n",
        "array = np.array(array)\n",
        "print(array)"
      ],
      "metadata": {
        "id": "DKOb4GkKLukZ"
      },
      "execution_count": null,
      "outputs": []
    },
    {
      "cell_type": "markdown",
      "source": [
        "**Warm up Task 2: Can you create a pandas dataframe for this 2D array? You can make up the column names as you like.**"
      ],
      "metadata": {
        "id": "hF5o3gx0LjZ0"
      }
    },
    {
      "cell_type": "code",
      "source": [
        "#Start writing on the next line\n"
      ],
      "metadata": {
        "id": "L-JZ7H4AMZk5"
      },
      "execution_count": null,
      "outputs": []
    },
    {
      "cell_type": "markdown",
      "source": [
        "**Warm up Task 3: Find the sum of all of your values. First, do this using only numpy methods on the numpy array. Then, do it only using pandas methods on the dataframe.**"
      ],
      "metadata": {
        "id": "v_K2sXKSMACN"
      }
    },
    {
      "cell_type": "code",
      "source": [
        "#Start writing on the next line\n"
      ],
      "metadata": {
        "id": "sF-gf5ApLxGL"
      },
      "execution_count": null,
      "outputs": []
    },
    {
      "cell_type": "markdown",
      "source": [
        "For the next set of tasks, we will be using the dataset I introduced at the end of the matplotlib section."
      ],
      "metadata": {
        "id": "nn5-1FPfFSTP"
      }
    },
    {
      "cell_type": "markdown",
      "source": [
        "**Task 1: What is the name of the person with the highest yearly income? What is the value of their house?**"
      ],
      "metadata": {
        "id": "w9dPwdNxFVxT"
      }
    },
    {
      "cell_type": "code",
      "source": [
        "#Start writing on the next line\n"
      ],
      "metadata": {
        "id": "2s3RVy7RFeu_"
      },
      "execution_count": null,
      "outputs": []
    },
    {
      "cell_type": "markdown",
      "source": [
        "**Task 2: What is the average age of someone who makes >£50,000 a year?**"
      ],
      "metadata": {
        "id": "84_tT62kFhQM"
      }
    },
    {
      "cell_type": "code",
      "source": [
        "#Start writing on the next line\n"
      ],
      "metadata": {
        "id": "RQtsogsjFxoi"
      },
      "execution_count": null,
      "outputs": []
    },
    {
      "cell_type": "markdown",
      "source": [
        "**Task 3: What is the average house price for males? For females?**"
      ],
      "metadata": {
        "id": "OhEG2ftVGqjE"
      }
    },
    {
      "cell_type": "code",
      "source": [
        "#Start writing on the next line\n"
      ],
      "metadata": {
        "id": "EWNJZa2gG1bU"
      },
      "execution_count": null,
      "outputs": []
    },
    {
      "cell_type": "markdown",
      "source": [
        "**Task 4: Say we have a metric called salaryForAge, which is a person's yearly income divided by their age. This gives us a metric for how 'well off' someone is - someone earning a lot of money at a young age has a higher value in this metric than someone earning less money who is older. What is the name of the woman in the dataset with the highest salaryForAge?**"
      ],
      "metadata": {
        "id": "AwpHyDpnFxBB"
      }
    },
    {
      "cell_type": "code",
      "source": [
        "#Start writing on the next line\n"
      ],
      "metadata": {
        "id": "PXr6DffVGYhT"
      },
      "execution_count": null,
      "outputs": []
    },
    {
      "cell_type": "markdown",
      "source": [
        "**Task 5: Plot a graph of age against yearly income. Is there a trend?**"
      ],
      "metadata": {
        "id": "NOGslAlBGaKE"
      }
    },
    {
      "cell_type": "code",
      "source": [
        "#Start writing on the next line\n"
      ],
      "metadata": {
        "id": "w9_1kSqJGft9"
      },
      "execution_count": null,
      "outputs": []
    }
  ]
}